{
  "nbformat": 4,
  "nbformat_minor": 0,
  "metadata": {
    "colab": {
      "provenance": []
    },
    "kernelspec": {
      "name": "python3",
      "display_name": "Python 3"
    },
    "language_info": {
      "name": "python"
    }
  },
  "cells": [
    {
      "cell_type": "code",
      "execution_count": null,
      "metadata": {
        "colab": {
          "base_uri": "https://localhost:8080/"
        },
        "id": "p-PNtxyVatAs",
        "outputId": "31ce7687-0d55-4c42-a8a1-611b830227aa"
      },
      "outputs": [
        {
          "output_type": "stream",
          "name": "stdout",
          "text": [
            "Original Data:\n",
            "   Region   Age   Income Online Shopper\n",
            "0   India  49.0  86400.0             No\n",
            "1  Brazil  32.0  57600.0            Yes\n",
            "2     USA  35.0  64800.0             No\n",
            "3  Brazil  43.0  73200.0             No\n",
            "4     USA  45.0      NaN            Yes\n",
            "InPreprocessed Data:\n",
            "   Region       Age    Income\n",
            "5       1 -0.548973 -0.526657\n",
            "0       1  0.758874  0.749473\n",
            "7       1  1.340140  1.387538\n",
            "2       2 -1.275555 -0.891265\n",
            "9       1 -0.258340  0.293712\n",
            "InTarget Variable:\n",
            "5    Yes\n",
            "0     No\n",
            "7    Yes\n",
            "2     No\n",
            "9    Yes\n",
            "Name: Online Shopper, dtype: object\n"
          ]
        }
      ],
      "source": [
        "import pandas as pd\n",
        "from sklearn.preprocessing import StandardScaler, LabelEncoder\n",
        "from sklearn.impute import SimpleImputer\n",
        "from sklearn.model_selection import train_test_split\n",
        "# Load dataset (replace \"data.csv' with your dataset file)\n",
        "data= pd.read_csv('data.csv')\n",
        "# Display the first few rows of the dataset\n",
        "print(\"Original Data:\")\n",
        "print(data.head())\n",
        "# 1. Handling Missing Values\n",
        "# Impute missing values with mean of respective columns\n",
        "imputer= SimpleImputer(strategy='mean')\n",
        "numeric_columns=['Age', 'Income'] # Replace with actual numeric column names\n",
        "data[numeric_columns]=imputer.fit_transform(data[numeric_columns])\n",
        "# 2. Encoding Categorical Variables\n",
        "# Label encode categorical variables\n",
        "label_encoder=LabelEncoder()\n",
        "data['Region']=label_encoder.fit_transform(data['Region'])\n",
        "# 3. Scaling Numeric Features\n",
        "# Standardize numeric features\n",
        "scaler =StandardScaler()\n",
        "data[numeric_columns]=scaler.fit_transform(data[numeric_columns])\n",
        "#4. Train-Test Split\n",
        "# Split dataset into train and test sets\n",
        "X=data.drop('Online Shopper', axis=1) # Features\n",
        "y=data['Online Shopper'] # Target variable\n",
        "X_train, X_test, y_train, y_test = train_test_split(X, y, test_size=0.2, random_state=42)\n",
        "# Display the preprocessed data\n",
        "print(\"InPreprocessed Data:\")\n",
        "print(X_train.head())\n",
        "print(\"InTarget Variable:\")\n",
        "print(y_train.head())"
      ]
    }
  ]
}